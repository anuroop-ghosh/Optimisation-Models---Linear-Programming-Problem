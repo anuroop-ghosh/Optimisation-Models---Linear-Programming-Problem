{
 "cells": [
  {
   "cell_type": "code",
   "execution_count": 2,
   "id": "3095fd3a",
   "metadata": {},
   "outputs": [],
   "source": [
    "#Installing the necessary libraries for the problem\n",
    "from pyomo.environ import *\n",
    "import pandas as pd\n",
    "import numpy as np"
   ]
  },
  {
   "cell_type": "code",
   "execution_count": 5,
   "id": "9702dcd0",
   "metadata": {},
   "outputs": [],
   "source": [
    "#Reading the problem from the excel data\n",
    "file_name = 'Optimisation Model - Smart Rug Manufacturer Problem.xlsx'\n",
    "df = pd.read_excel(file_name, index_col=0)\n",
    "df_np = df.to_numpy()"
   ]
  },
  {
   "cell_type": "code",
   "execution_count": 7,
   "id": "76b544ee",
   "metadata": {},
   "outputs": [],
   "source": [
    "#Importing each value into separate datasets\n",
    "material_type = df.loc[df.index[0],df.columns[0:-2]].keys() # Material types\n",
    "wool = df_np[0,0:2] # Wool data\n",
    "nylon = df_np[1,0:2] # Nylon data\n",
    "work_hours = df_np[2,0:2] # Work hours required\n",
    "availability = df_np[0:-1,0:-2] # Availability of resources\n",
    "selling_price = df_np[3,0:2] # Selling price of each material type\n",
    "cost = df_np[0:3,3] # Costs for wool, nylon, and labor\n",
    "available = df_np[0:3,2] # Available resources"
   ]
  },
  {
   "cell_type": "code",
   "execution_count": 8,
   "id": "ce62679f",
   "metadata": {},
   "outputs": [],
   "source": [
    "#Defining the model\n",
    "model = ConcreteModel()\n",
    "model.TL = Var(range(len(material_type)), domain = NonNegativeReals)"
   ]
  },
  {
   "cell_type": "code",
   "execution_count": 9,
   "id": "69ae0b61",
   "metadata": {},
   "outputs": [],
   "source": [
    "#Defining the Income Rule\n",
    "#Profit/Income = selling price - (cost of wool *quantity of wool + cost of nylon*quantity of nylon + cost of labour*quantity of labour )\n",
    "profit = [0,0]\n",
    "for i in range(len(profit)):\n",
    "  for j in range(len(profit)-1):\n",
    "    profit[i]=selling_price[i]-(wool[i]*cost[j]+ nylon[i]*cost[j+1] + work_hours[i]*cost[j+2])"
   ]
  },
  {
   "cell_type": "code",
   "execution_count": 11,
   "id": "4cbf563b",
   "metadata": {},
   "outputs": [],
   "source": [
    "#Defining the Objective Function to maximize total profit \n",
    "def obj (model):\n",
    "  return sum(model.TL[i] * (profit[i]) for i in range(len(material_type)))\n",
    "model.profit = Objective(rule=obj, sense=maximize)"
   ]
  },
  {
   "cell_type": "code",
   "execution_count": 12,
   "id": "de8ba259",
   "metadata": {},
   "outputs": [],
   "source": [
    "#Defining the Limit rule to ensure resource usage does not exceed availability\n",
    "def limit_rule(model, i):\n",
    "  return sum(model.TL[j] * availability[i,j] for j in range(len(material_type))) <= available[i]\n",
    "model.cons = Constraint(range(len(available)), rule=limit_rule)"
   ]
  },
  {
   "cell_type": "code",
   "execution_count": 14,
   "id": "dba2487e",
   "metadata": {},
   "outputs": [
    {
     "name": "stdout",
     "output_type": "stream",
     "text": [
      "1 Var Declarations\n",
      "    TL : Size=2, Index={0, 1}\n",
      "        Key : Lower : Value : Upper : Fixed : Stale : Domain\n",
      "          0 :     0 :  None :  None : False :  True : NonNegativeReals\n",
      "          1 :     0 :  None :  None : False :  True : NonNegativeReals\n",
      "\n",
      "1 Objective Declarations\n",
      "    profit : Size=1, Index=None, Active=True\n",
      "        Key  : Active : Sense    : Expression\n",
      "        None :   True : maximize : 490.0*TL[0] + 315.0*TL[1]\n",
      "\n",
      "1 Constraint Declarations\n",
      "    cons : Size=3, Index={0, 1, 2}, Active=True\n",
      "        Key : Lower : Body                    : Upper  : Active\n",
      "          0 :  -Inf : 35.0*TL[0] + 15.0*TL[1] : 1800.0 :   True\n",
      "          1 :  -Inf : 15.0*TL[0] + 45.0*TL[1] :  800.0 :   True\n",
      "          2 :  -Inf : 25.0*TL[0] + 20.0*TL[1] : 1000.0 :   True\n",
      "\n",
      "3 Declarations: TL profit cons\n"
     ]
    }
   ],
   "source": [
    "#Checking the existing Model\n",
    "model.pprint()"
   ]
  },
  {
   "cell_type": "code",
   "execution_count": 16,
   "id": "7c3d16e8",
   "metadata": {},
   "outputs": [],
   "source": [
    "#Solving the model\n",
    "solver = SolverFactory('glpk')\n",
    "results = solver.solve(model)"
   ]
  },
  {
   "cell_type": "code",
   "execution_count": 17,
   "id": "46cc28bd",
   "metadata": {},
   "outputs": [
    {
     "name": "stdout",
     "output_type": "stream",
     "text": [
      "Total Income or Profit: 19600.0\n",
      "Material Type: high_grade Optimal Quantity: 40.0\n",
      "Material Type: low_grade Optimal Quantity: 0.0\n"
     ]
    }
   ],
   "source": [
    "#Printing the Results\n",
    "if results.solver.termination_condition == TerminationCondition.optimal:\n",
    "   print(\"Total Income or Profit:\",model.profit())\n",
    "   for i in range(len(material_type)):\n",
    "     print(\"Material Type:\",material_type[i], \"Optimal Quantity:\", model.TL[i].value)\n",
    "else:\n",
    "    print(\"Solve failed.\")"
   ]
  },
  {
   "cell_type": "code",
   "execution_count": null,
   "id": "43b9cfd7",
   "metadata": {},
   "outputs": [],
   "source": []
  }
 ],
 "metadata": {
  "kernelspec": {
   "display_name": "Python 3 (ipykernel)",
   "language": "python",
   "name": "python3"
  },
  "language_info": {
   "codemirror_mode": {
    "name": "ipython",
    "version": 3
   },
   "file_extension": ".py",
   "mimetype": "text/x-python",
   "name": "python",
   "nbconvert_exporter": "python",
   "pygments_lexer": "ipython3",
   "version": "3.9.13"
  }
 },
 "nbformat": 4,
 "nbformat_minor": 5
}
